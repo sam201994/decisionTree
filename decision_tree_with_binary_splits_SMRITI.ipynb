{
 "cells": [
  {
   "cell_type": "markdown",
   "metadata": {},
   "source": [
    "## This decision tree api is implemented for binary splits with continous and categorical datasets"
   ]
  },
  {
   "cell_type": "raw",
   "metadata": {},
   "source": [
    "API :\n",
    "\n",
    "tree = decision_tree_algorithm(train_df)\n",
    "accuracy = calculate_accuracy(test_df, tree)\n",
    "print_tree(tree)"
   ]
  },
  {
   "cell_type": "markdown",
   "metadata": {},
   "source": [
    "# Import Statements"
   ]
  },
  {
   "cell_type": "code",
   "execution_count": 1,
   "metadata": {},
   "outputs": [],
   "source": [
    "import numpy as np\n",
    "import pandas as pd\n",
    "from pprint import pprint\n",
    "import math"
   ]
  },
  {
   "cell_type": "markdown",
   "metadata": {},
   "source": [
    "# Load and Prepare Data"
   ]
  },
  {
   "cell_type": "markdown",
   "metadata": {},
   "source": [
    "#### Format of the data\n",
    "- last column of the data frame must contain the label and it must also be called \"label\"\n",
    "- there should be no missing values in the data frame"
   ]
  },
  {
   "cell_type": "code",
   "execution_count": 26,
   "metadata": {},
   "outputs": [],
   "source": [
    "from sklearn import datasets\n",
    "import pandas as pd\n",
    "\n",
    "iris = datasets.load_iris()\n",
    "df = pd.DataFrame(iris.data)\n",
    "df.columns = [\"sl\", \"sw\", 'pl', 'pw']\n",
    "df['label'] = iris.target\n",
    "df['label'].replace({0: 'Iris-setosa', 1: 'Iris-versicolor', 2: 'Iris-virginica'}, inplace = True)\n"
   ]
  },
  {
   "cell_type": "code",
   "execution_count": 3,
   "metadata": {},
   "outputs": [
    {
     "data": {
      "text/html": [
       "<div>\n",
       "<style scoped>\n",
       "    .dataframe tbody tr th:only-of-type {\n",
       "        vertical-align: middle;\n",
       "    }\n",
       "\n",
       "    .dataframe tbody tr th {\n",
       "        vertical-align: top;\n",
       "    }\n",
       "\n",
       "    .dataframe thead th {\n",
       "        text-align: right;\n",
       "    }\n",
       "</style>\n",
       "<table border=\"1\" class=\"dataframe\">\n",
       "  <thead>\n",
       "    <tr style=\"text-align: right;\">\n",
       "      <th></th>\n",
       "      <th>sl</th>\n",
       "      <th>sw</th>\n",
       "      <th>pl</th>\n",
       "      <th>pw</th>\n",
       "      <th>label</th>\n",
       "    </tr>\n",
       "  </thead>\n",
       "  <tbody>\n",
       "    <tr>\n",
       "      <td>0</td>\n",
       "      <td>5.1</td>\n",
       "      <td>3.5</td>\n",
       "      <td>1.4</td>\n",
       "      <td>0.2</td>\n",
       "      <td>Iris-setosa</td>\n",
       "    </tr>\n",
       "    <tr>\n",
       "      <td>1</td>\n",
       "      <td>4.9</td>\n",
       "      <td>3.0</td>\n",
       "      <td>1.4</td>\n",
       "      <td>0.2</td>\n",
       "      <td>Iris-setosa</td>\n",
       "    </tr>\n",
       "    <tr>\n",
       "      <td>2</td>\n",
       "      <td>4.7</td>\n",
       "      <td>3.2</td>\n",
       "      <td>1.3</td>\n",
       "      <td>0.2</td>\n",
       "      <td>Iris-setosa</td>\n",
       "    </tr>\n",
       "    <tr>\n",
       "      <td>3</td>\n",
       "      <td>4.6</td>\n",
       "      <td>3.1</td>\n",
       "      <td>1.5</td>\n",
       "      <td>0.2</td>\n",
       "      <td>Iris-setosa</td>\n",
       "    </tr>\n",
       "    <tr>\n",
       "      <td>4</td>\n",
       "      <td>5.0</td>\n",
       "      <td>3.6</td>\n",
       "      <td>1.4</td>\n",
       "      <td>0.2</td>\n",
       "      <td>Iris-setosa</td>\n",
       "    </tr>\n",
       "  </tbody>\n",
       "</table>\n",
       "</div>"
      ],
      "text/plain": [
       "    sl   sw   pl   pw        label\n",
       "0  5.1  3.5  1.4  0.2  Iris-setosa\n",
       "1  4.9  3.0  1.4  0.2  Iris-setosa\n",
       "2  4.7  3.2  1.3  0.2  Iris-setosa\n",
       "3  4.6  3.1  1.5  0.2  Iris-setosa\n",
       "4  5.0  3.6  1.4  0.2  Iris-setosa"
      ]
     },
     "execution_count": 3,
     "metadata": {},
     "output_type": "execute_result"
    }
   ],
   "source": [
    "df.head()"
   ]
  },
  {
   "cell_type": "markdown",
   "metadata": {},
   "source": [
    "# Helper Functions"
   ]
  },
  {
   "cell_type": "code",
   "execution_count": 4,
   "metadata": {},
   "outputs": [
    {
     "data": {
      "text/plain": [
       "array([[5.1, 3.5, 1.4, 0.2, 'Iris-setosa'],\n",
       "       [4.9, 3.0, 1.4, 0.2, 'Iris-setosa'],\n",
       "       [4.7, 3.2, 1.3, 0.2, 'Iris-setosa'],\n",
       "       [4.6, 3.1, 1.5, 0.2, 'Iris-setosa'],\n",
       "       [5.0, 3.6, 1.4, 0.2, 'Iris-setosa']], dtype=object)"
      ]
     },
     "execution_count": 4,
     "metadata": {},
     "output_type": "execute_result"
    }
   ],
   "source": [
    "data = df.values\n",
    "data[:5]"
   ]
  },
  {
   "cell_type": "markdown",
   "metadata": {},
   "source": [
    "### Data pure"
   ]
  },
  {
   "cell_type": "code",
   "execution_count": 5,
   "metadata": {},
   "outputs": [],
   "source": [
    "def check_purity(data):\n",
    "    \n",
    "    label_column = data[:, -1]\n",
    "    unique_classes = np.unique(label_column)\n",
    "\n",
    "    if len(unique_classes) == 1:\n",
    "        return True\n",
    "    else:\n",
    "        return False"
   ]
  },
  {
   "cell_type": "markdown",
   "metadata": {},
   "source": [
    "### Classify"
   ]
  },
  {
   "cell_type": "code",
   "execution_count": 6,
   "metadata": {},
   "outputs": [],
   "source": [
    "def classify_data(data):\n",
    "    \n",
    "    label_column = data[:, -1]\n",
    "    unique_classes, counts_unique_classes = np.unique(label_column, return_counts=True)\n",
    "\n",
    "    index = counts_unique_classes.argmax()\n",
    "    classification = unique_classes[index]\n",
    "    \n",
    "    return classification"
   ]
  },
  {
   "cell_type": "markdown",
   "metadata": {},
   "source": [
    "### Find Class counts in \"label\" column"
   ]
  },
  {
   "cell_type": "code",
   "execution_count": 7,
   "metadata": {},
   "outputs": [],
   "source": [
    "def calculate_counts_of_classes(data):\n",
    "    label_column = data[:, -1]\n",
    "    class_counts = np.array(np.unique(label_column, return_counts=True)).T\n",
    "    return class_counts"
   ]
  },
  {
   "cell_type": "markdown",
   "metadata": {},
   "source": [
    "### Potential splits"
   ]
  },
  {
   "cell_type": "code",
   "execution_count": 8,
   "metadata": {},
   "outputs": [],
   "source": [
    "def get_potential_splits(data):\n",
    "    \n",
    "    potential_splits = {}\n",
    "    _, n_columns = data.shape\n",
    "    for column_index in range(n_columns - 1): # excluding the last column which is the label\n",
    "        values = data[:, column_index]\n",
    "        unique_values = np.unique(values)\n",
    "        \n",
    "        potential_splits[column_index] = unique_values\n",
    "    \n",
    "    return potential_splits"
   ]
  },
  {
   "cell_type": "markdown",
   "metadata": {},
   "source": [
    "### Split Data"
   ]
  },
  {
   "cell_type": "code",
   "execution_count": 15,
   "metadata": {},
   "outputs": [],
   "source": [
    "def split_data(data, split_column, split_value):\n",
    "    \n",
    "    split_column_values = data[:, split_column]\n",
    "\n",
    "    type_of_feature = FEATURE_TYPES[split_column]\n",
    "    if type_of_feature == \"continuous\":\n",
    "        data_below = data[split_column_values <= split_value]\n",
    "        data_above = data[split_column_values >  split_value]\n",
    "    \n",
    "    # feature is categorical   \n",
    "    else:\n",
    "        data_below = data[split_column_values == split_value]\n",
    "        data_above = data[split_column_values != split_value]\n",
    "    \n",
    "    return data_below, data_above"
   ]
  },
  {
   "cell_type": "markdown",
   "metadata": {},
   "source": [
    "### Lowest Overall Entropy"
   ]
  },
  {
   "cell_type": "code",
   "execution_count": 14,
   "metadata": {},
   "outputs": [],
   "source": [
    "def calculate_entropy(data):\n",
    "    \n",
    "    label_column = data[:, -1]\n",
    "    _, counts = np.unique(label_column, return_counts=True)\n",
    "\n",
    "    probabilities = counts / counts.sum()\n",
    "    entropy = sum(probabilities * -np.log2(probabilities))\n",
    "     \n",
    "    return entropy"
   ]
  },
  {
   "cell_type": "code",
   "execution_count": 16,
   "metadata": {},
   "outputs": [],
   "source": [
    "def calculate_overall_entropy(data_below, data_above):\n",
    "    \n",
    "    n = len(data_below) + len(data_above)\n",
    "    p_data_below = len(data_below) / n\n",
    "    p_data_above = len(data_above) / n\n",
    "\n",
    "    overall_entropy =  (p_data_below * calculate_entropy(data_below) \n",
    "                      + p_data_above * calculate_entropy(data_above))\n",
    "    \n",
    "    return overall_entropy"
   ]
  },
  {
   "cell_type": "code",
   "execution_count": 12,
   "metadata": {},
   "outputs": [],
   "source": [
    "def calculate_split_info(data_below, data_above):\n",
    "    if(len(data_below) == 0 or len(data_above) == 0):\n",
    "        return 0\n",
    "        \n",
    "    n = len(data_below) + len(data_above)\n",
    "    si_data_below = len(data_below) / n\n",
    "    si_data_above = len(data_above) / n\n",
    "    \n",
    "    overall_spilt_info =  (si_data_below * -math.log(si_data_below, 2) \n",
    "                      + si_data_above * -math.log(si_data_above, 2))\n",
    "    \n",
    "    return overall_spilt_info"
   ]
  },
  {
   "cell_type": "code",
   "execution_count": 17,
   "metadata": {},
   "outputs": [],
   "source": [
    "def determine_best_split(data, potential_splits):\n",
    "    entropy_before_split = calculate_entropy(data)\n",
    "    max_gain_ratio = float(\"-inf\")\n",
    "    \n",
    "    for column_index in potential_splits:\n",
    "        for value in potential_splits[column_index]:\n",
    "            data_below, data_above = split_data(data, split_column=column_index, split_value=value)\n",
    "            current_overall_entropy = calculate_overall_entropy(data_below, data_above)\n",
    "            \n",
    "            information_gain = entropy_before_split - current_overall_entropy\n",
    "            split_info = calculate_split_info(data_below, data_above)\n",
    "            current_gain_ratio = information_gain/split_info if split_info else 0\n",
    "            \n",
    "            if  current_gain_ratio >= max_gain_ratio:\n",
    "                max_gain_ratio = current_gain_ratio\n",
    "                best_split_column = column_index\n",
    "                best_split_value = value\n",
    "                \n",
    "    return best_split_column, best_split_value, max_gain_ratio, entropy_before_split"
   ]
  },
  {
   "cell_type": "markdown",
   "metadata": {},
   "source": [
    "### Determine Type of Feature"
   ]
  },
  {
   "cell_type": "code",
   "execution_count": 18,
   "metadata": {},
   "outputs": [],
   "source": [
    "def determine_type_of_feature(df):\n",
    "    \n",
    "    feature_types = []\n",
    "    n_unique_values_treshold = 15\n",
    "    for feature in df.columns:\n",
    "        if feature != \"label\":\n",
    "            unique_values = df[feature].unique()\n",
    "            example_value = unique_values[0]\n",
    "\n",
    "            if (isinstance(example_value, str)) or (len(unique_values) <= n_unique_values_treshold):\n",
    "                feature_types.append(\"categorical\")\n",
    "            else:\n",
    "                feature_types.append(\"continuous\")\n",
    "    \n",
    "    return feature_types"
   ]
  },
  {
   "cell_type": "markdown",
   "metadata": {},
   "source": [
    "# Decision Tree Algorithm"
   ]
  },
  {
   "cell_type": "markdown",
   "metadata": {},
   "source": [
    "### Representation of the Decision Tree"
   ]
  },
  {
   "cell_type": "raw",
   "metadata": {},
   "source": [
    "tree = {question: question, sub_tree: [yes_answer, no_answer], node = {}}"
   ]
  },
  {
   "cell_type": "markdown",
   "metadata": {},
   "source": [
    "### Algorithm"
   ]
  },
  {
   "cell_type": "code",
   "execution_count": 19,
   "metadata": {},
   "outputs": [],
   "source": [
    "def decision_tree_algorithm(df, counter=0, min_samples=2, max_depth=5):\n",
    "    \n",
    "    # data preparations\n",
    "    if counter == 0:\n",
    "        global COLUMN_HEADERS, FEATURE_TYPES\n",
    "        COLUMN_HEADERS = df.columns\n",
    "        FEATURE_TYPES = determine_type_of_feature(df)\n",
    "        data = df.values\n",
    "    else:\n",
    "        data = df           \n",
    "    \n",
    "    \n",
    "    # base cases\n",
    "    if (check_purity(data)) or (len(data) < min_samples) or (counter == max_depth):\n",
    "        classification = classify_data(data)\n",
    "        \n",
    "        node = { \n",
    "            \"entropy\": calculate_entropy(data),\n",
    "            \"level\": counter, \n",
    "            'class_counts': calculate_counts_of_classes(data) \n",
    "        }  \n",
    "        tree = {'question': classification, 'node': node, 'sub_tree': [] }\n",
    "        \n",
    "        return tree\n",
    "\n",
    "    \n",
    "    # recursive part\n",
    "    else:    \n",
    "        counter += 1\n",
    "\n",
    "        # helper functions \n",
    "        potential_splits = get_potential_splits(data)\n",
    "        split_column, split_value, gain_ratio, entropy = determine_best_split(data, potential_splits)\n",
    "        data_below, data_above = split_data(data, split_column, split_value)\n",
    "        \n",
    "        # check for empty data\n",
    "        if len(data_below) == 0 or len(data_above) == 0:\n",
    "            classification = classify_data(data)\n",
    "            node = { \n",
    "                \"entropy\": entropy, \n",
    "                \"level\": counter-1, \n",
    "                'class_counts': calculate_counts_of_classes(data) \n",
    "            }  \n",
    "            tree = {'question': classification, 'node': node, 'sub_tree': [] }\n",
    "            return tree\n",
    "        \n",
    "        # determine question\n",
    "        feature_name = COLUMN_HEADERS[split_column]\n",
    "        type_of_feature = FEATURE_TYPES[split_column]\n",
    "        if type_of_feature == \"continuous\":\n",
    "            question = \"{} <= {}\".format(feature_name, split_value)\n",
    "            \n",
    "        # feature is categorical\n",
    "        else:\n",
    "            question = \"{} = {}\".format(feature_name, split_value)\n",
    "           \n",
    "        # instantiate tree\n",
    "        tree = {'question': question, 'node': {}, 'sub_tree': [] }\n",
    "        \n",
    "        # find answers (recursion)\n",
    "        yes_answer = decision_tree_algorithm(data_below, counter, min_samples, max_depth)\n",
    "        no_answer = decision_tree_algorithm(data_above, counter, min_samples, max_depth)\n",
    "        node = { \n",
    "            \"entropy\": entropy,\n",
    "            \"gain_ratio\": gain_ratio,\n",
    "            \"level\": counter-1, \n",
    "            'class_counts': calculate_counts_of_classes(data) \n",
    "        }  \n",
    "        \n",
    "        # If the answers are the same, then there is no point in asking the qestion.\n",
    "        # This could happen when the data is classified even though it is not pure\n",
    "        # yet (min_samples or max_depth base case).\n",
    "        if yes_answer == no_answer:\n",
    "            tree['question'] = yes_answer\n",
    "            tree['node'] = node\n",
    "            tree['sub_tree'] = []\n",
    "        else:\n",
    "            tree['sub_tree'].append(yes_answer)\n",
    "            tree['sub_tree'].append(no_answer)\n",
    "            tree['question'] = question\n",
    "            tree['node'] = node\n",
    "        \n",
    "        return tree"
   ]
  },
  {
   "cell_type": "code",
   "execution_count": 44,
   "metadata": {},
   "outputs": [
    {
     "name": "stdout",
     "output_type": "stream",
     "text": [
      "{'node': {'class_counts': array([['Iris-setosa', 50],\n",
      "       ['Iris-versicolor', 50],\n",
      "       ['Iris-virginica', 50]], dtype=object),\n",
      "          'entropy': 1.584962500721156,\n",
      "          'gain_ratio': 0.9999999999999999,\n",
      "          'level': 0},\n",
      " 'question': 'pw <= 0.6',\n",
      " 'sub_tree': [{'node': {'class_counts': array([['Iris-setosa', 50]], dtype=object),\n",
      "                        'entropy': 0.0,\n",
      "                        'level': 1},\n",
      "               'question': 'Iris-setosa',\n",
      "               'sub_tree': []},\n",
      "              {'node': {'class_counts': array([['Iris-versicolor', 50],\n",
      "       ['Iris-virginica', 50]], dtype=object),\n",
      "                        'entropy': 1.0,\n",
      "                        'gain_ratio': 0.6933647985912662,\n",
      "                        'level': 1},\n",
      "               'question': 'pw <= 1.7',\n",
      "               'sub_tree': [{'node': {'class_counts': array([['Iris-versicolor', 49],\n",
      "       ['Iris-virginica', 5]], dtype=object),\n",
      "                                      'entropy': 0.44506485705083865,\n",
      "                                      'gain_ratio': 0.6066178220203009,\n",
      "                                      'level': 2},\n",
      "                             'question': 'pl <= 5.1',\n",
      "                             'sub_tree': [{'node': {'class_counts': array([['Iris-versicolor', 49],\n",
      "       ['Iris-virginica', 3]], dtype=object),\n",
      "                                                    'entropy': 0.31821529768323314,\n",
      "                                                    'level': 3},\n",
      "                                           'question': 'Iris-versicolor',\n",
      "                                           'sub_tree': []},\n",
      "                                          {'node': {'class_counts': array([['Iris-virginica', 2]], dtype=object),\n",
      "                                                    'entropy': 0.0,\n",
      "                                                    'level': 3},\n",
      "                                           'question': 'Iris-virginica',\n",
      "                                           'sub_tree': []}]},\n",
      "                            {'node': {'class_counts': array([['Iris-versicolor', 1],\n",
      "       ['Iris-virginica', 45]], dtype=object),\n",
      "                                      'entropy': 0.15109697051711368,\n",
      "                                      'gain_ratio': 0.2622302372762406,\n",
      "                                      'level': 2},\n",
      "                             'question': 'pl <= 4.8',\n",
      "                             'sub_tree': [{'node': {'class_counts': array([['Iris-versicolor', 1],\n",
      "       ['Iris-virginica', 2]], dtype=object),\n",
      "                                                    'entropy': 0.9182958340544896,\n",
      "                                                    'level': 3},\n",
      "                                           'question': 'Iris-virginica',\n",
      "                                           'sub_tree': []},\n",
      "                                          {'node': {'class_counts': array([['Iris-virginica', 43]], dtype=object),\n",
      "                                                    'entropy': 0.0,\n",
      "                                                    'level': 3},\n",
      "                                           'question': 'Iris-virginica',\n",
      "                                           'sub_tree': []}]}]}]}\n"
     ]
    }
   ],
   "source": [
    "# example of how a tree looks like\n",
    "tree = decision_tree_algorithm(df, max_depth = 3)\n",
    "pprint(tree)"
   ]
  },
  {
   "cell_type": "markdown",
   "metadata": {},
   "source": [
    "# Classification"
   ]
  },
  {
   "cell_type": "raw",
   "metadata": {},
   "source": [
    "tree = {question: question, sub_tree: [yes_answer, no_answer], node = {}}"
   ]
  },
  {
   "cell_type": "code",
   "execution_count": 21,
   "metadata": {},
   "outputs": [
    {
     "data": {
      "text/plain": [
       "sl               5.1\n",
       "sw               3.5\n",
       "pl               1.4\n",
       "pw               0.2\n",
       "label    Iris-setosa\n",
       "Name: 0, dtype: object"
      ]
     },
     "execution_count": 21,
     "metadata": {},
     "output_type": "execute_result"
    }
   ],
   "source": [
    "example = df.iloc[0]\n",
    "example"
   ]
  },
  {
   "cell_type": "code",
   "execution_count": 22,
   "metadata": {},
   "outputs": [],
   "source": [
    "def classify_example(example, tree):\n",
    "    q = tree['question']\n",
    "    # base case\n",
    "    if(len(q.split(\" \")) != 3):\n",
    "        return q\n",
    "\n",
    "    feature_name, comparison_operator, value = q.split(\" \")\n",
    "\n",
    "    # ask question\n",
    "    if comparison_operator == \"<=\":\n",
    "        if example[feature_name] <= float(value):\n",
    "            answer = tree['sub_tree'][0]\n",
    "        else:\n",
    "            answer = tree['sub_tree'][1]\n",
    "    \n",
    "    # feature is categorical\n",
    "    else:\n",
    "        if str(example[feature_name]) == value:\n",
    "            answer = tree['sub_tree'][0]\n",
    "        else:\n",
    "            answer = tree['sub_tree'][1]\n",
    "\n",
    "    # recursive part\n",
    "    residual_tree = answer\n",
    "    return classify_example(example, residual_tree)\n",
    "        "
   ]
  },
  {
   "cell_type": "code",
   "execution_count": 23,
   "metadata": {},
   "outputs": [
    {
     "data": {
      "text/plain": [
       "'Iris-setosa'"
      ]
     },
     "execution_count": 23,
     "metadata": {},
     "output_type": "execute_result"
    }
   ],
   "source": [
    "classify_example(example, tree)\n"
   ]
  },
  {
   "cell_type": "markdown",
   "metadata": {},
   "source": [
    "# Calculate Accuracy"
   ]
  },
  {
   "cell_type": "code",
   "execution_count": 24,
   "metadata": {},
   "outputs": [],
   "source": [
    "def calculate_accuracy(df, tree):\n",
    "    new_df = pd.DataFrame()\n",
    "    new_df[\"classification\"] = df.apply(classify_example, args=(tree,), axis=1)\n",
    "    new_df[\"classification_correct\"] = new_df[\"classification\"] == df[\"label\"]\n",
    "    \n",
    "    accuracy = new_df[\"classification_correct\"].mean()\n",
    "    \n",
    "    return accuracy"
   ]
  },
  {
   "cell_type": "markdown",
   "metadata": {},
   "source": [
    "### Train and test split"
   ]
  },
  {
   "cell_type": "code",
   "execution_count": 49,
   "metadata": {},
   "outputs": [],
   "source": [
    "import random\n",
    "def train_test_split(df, test_size):\n",
    "    \n",
    "    if isinstance(test_size, float):\n",
    "        test_size = round(test_size * len(df))\n",
    "\n",
    "    indices = df.index.tolist()\n",
    "    test_indices = random.sample(population=indices, k=test_size)\n",
    "\n",
    "    test_df = df.loc[test_indices]\n",
    "    train_df = df.drop(test_indices)\n",
    "    \n",
    "    return train_df, test_df"
   ]
  },
  {
   "cell_type": "markdown",
   "metadata": {},
   "source": [
    "## Iris dataset. "
   ]
  },
  {
   "cell_type": "code",
   "execution_count": 68,
   "metadata": {},
   "outputs": [
    {
     "data": {
      "text/plain": [
       "0.9"
      ]
     },
     "execution_count": 68,
     "metadata": {},
     "output_type": "execute_result"
    }
   ],
   "source": [
    "random.seed(0)\n",
    "train_df, test_df = train_test_split(df, test_size=20)\n",
    "\n",
    "tree = decision_tree_algorithm(train_df)\n",
    "accuracy = calculate_accuracy(test_df, tree)\n",
    "\n",
    "accuracy"
   ]
  },
  {
   "cell_type": "code",
   "execution_count": 70,
   "metadata": {},
   "outputs": [
    {
     "name": "stdout",
     "output_type": "stream",
     "text": [
      "Level : 0\n",
      "Curret Entropy : 1.5836100169358511\n",
      "Splitting on Feature : pw\n",
      "Gain ratio : 1.0\n",
      "Count of Iris-setosa : 46\n",
      "Count of Iris-versicolor : 42\n",
      "Count of Iris-virginica : 42\n",
      "--------------------------\n",
      "Level : 1\n",
      "Current Entropy : 0.0\n",
      "Count of Iris-setosa : 46\n",
      "Reached leaf node\n",
      "--------------------------\n",
      "Level : 1\n",
      "Curret Entropy : 1.0\n",
      "Splitting on Feature : pw\n",
      "Gain ratio : 0.7327834928979089\n",
      "Count of Iris-versicolor : 42\n",
      "Count of Iris-virginica : 42\n",
      "--------------------------\n",
      "Level : 2\n",
      "Curret Entropy : 0.3591016256485496\n",
      "Splitting on Feature : pl\n",
      "Gain ratio : 0.6492628558805021\n",
      "Count of Iris-versicolor : 41\n",
      "Count of Iris-virginica : 3\n",
      "--------------------------\n",
      "Level : 3\n",
      "Current Entropy : 0.0\n",
      "Count of Iris-versicolor : 40\n",
      "Reached leaf node\n",
      "--------------------------\n",
      "Level : 3\n",
      "Curret Entropy : 0.8112781244591328\n",
      "Splitting on Feature : pw\n",
      "Gain ratio : 1.0\n",
      "Count of Iris-versicolor : 1\n",
      "Count of Iris-virginica : 3\n",
      "--------------------------\n",
      "Level : 4\n",
      "Current Entropy : 0.0\n",
      "Count of Iris-virginica : 3\n",
      "Reached leaf node\n",
      "--------------------------\n",
      "Level : 4\n",
      "Current Entropy : 0.0\n",
      "Count of Iris-versicolor : 1\n",
      "Reached leaf node\n",
      "--------------------------\n",
      "Level : 2\n",
      "Curret Entropy : 0.16866093149667025\n",
      "Splitting on Feature : pl\n",
      "Gain ratio : 0.18663953403240996\n",
      "Count of Iris-versicolor : 1\n",
      "Count of Iris-virginica : 39\n",
      "--------------------------\n",
      "Level : 3\n",
      "Curret Entropy : 0.8112781244591328\n",
      "Splitting on Feature : sw\n",
      "Gain ratio : 1.0\n",
      "Count of Iris-versicolor : 1\n",
      "Count of Iris-virginica : 3\n",
      "--------------------------\n",
      "Level : 4\n",
      "Current Entropy : 0.0\n",
      "Count of Iris-virginica : 3\n",
      "Reached leaf node\n",
      "--------------------------\n",
      "Level : 4\n",
      "Current Entropy : 0.0\n",
      "Count of Iris-versicolor : 1\n",
      "Reached leaf node\n",
      "--------------------------\n",
      "Level : 3\n",
      "Current Entropy : 0.0\n",
      "Count of Iris-virginica : 36\n",
      "Reached leaf node\n",
      "--------------------------\n"
     ]
    }
   ],
   "source": [
    "def print_tree(tree):\n",
    "    q = tree['question']\n",
    "    \n",
    "    # base case\n",
    "    if(len(q.split(\" \")) != 3):\n",
    "        print(\"Level :\", tree['node']['level'])\n",
    "        print(\"Current Entropy :\", tree['node']['entropy'])\n",
    "        for c in tree['node']['class_counts']:\n",
    "            print(\"Count of\",c[0],\":\", c[1])\n",
    "        print(\"Reached leaf node\")\n",
    "        print(\"--------------------------\")\n",
    "        return\n",
    "\n",
    "    feature_name, comparison_operator, value = q.split(\" \")\n",
    "    print(\"Level :\", tree['node']['level'])\n",
    "    print(\"Curret Entropy :\", tree['node']['entropy'])\n",
    "    print(\"Splitting on Feature :\", feature_name)\n",
    "    print(\"Gain ratio :\", tree['node']['gain_ratio'])\n",
    "\n",
    "    for c in tree['node']['class_counts']:\n",
    "        print(\"Count of\",c[0],\":\", c[1])\n",
    "    print(\"--------------------------\")\n",
    "\n",
    "    print_tree(tree['sub_tree'][0])\n",
    "    print_tree(tree['sub_tree'][1])\n",
    "    return\n",
    "print_tree(tree)"
   ]
  },
  {
   "cell_type": "markdown",
   "metadata": {},
   "source": [
    "# 1. OR dataset"
   ]
  },
  {
   "cell_type": "code",
   "execution_count": 52,
   "metadata": {},
   "outputs": [],
   "source": [
    "a = ['True', 'True', 'True']\n",
    "b = ['False', 'True', 'True']\n",
    "c = ['True', 'False', 'True']\n",
    "d = ['False', 'False', 'False']\n",
    "data = [a,b,c,d]\n",
    "df1 = pd.DataFrame(data, columns = ['a', 'b', 'label']) \n"
   ]
  },
  {
   "cell_type": "code",
   "execution_count": 60,
   "metadata": {},
   "outputs": [
    {
     "data": {
      "text/plain": [
       "1.0"
      ]
     },
     "execution_count": 60,
     "metadata": {},
     "output_type": "execute_result"
    }
   ],
   "source": [
    "tree = decision_tree_algorithm(df1)\n",
    "accuracy = calculate_accuracy(df1, tree)\n",
    "accuracy"
   ]
  },
  {
   "cell_type": "code",
   "execution_count": 61,
   "metadata": {},
   "outputs": [
    {
     "name": "stdout",
     "output_type": "stream",
     "text": [
      "Level : 0\n",
      "Curret Entropy : 0.8112781244591328\n",
      "Splitting on Feature : b\n",
      "Gain ratio : 0.31127812445913283\n",
      "Count of False : 1\n",
      "Count of True : 3\n",
      "--------------------------\n",
      "Level : 1\n",
      "Current Entropy : 0.0\n",
      "Count of True : 2\n",
      "Reached leaf node\n",
      "--------------------------\n",
      "Level : 1\n",
      "Curret Entropy : 1.0\n",
      "Splitting on Feature : a\n",
      "Gain ratio : 1.0\n",
      "Count of False : 1\n",
      "Count of True : 1\n",
      "--------------------------\n",
      "Level : 2\n",
      "Current Entropy : 0.0\n",
      "Count of True : 1\n",
      "Reached leaf node\n",
      "--------------------------\n",
      "Level : 2\n",
      "Current Entropy : 0.0\n",
      "Count of False : 1\n",
      "Reached leaf node\n",
      "--------------------------\n"
     ]
    }
   ],
   "source": [
    "print_tree(tree)"
   ]
  },
  {
   "cell_type": "markdown",
   "metadata": {},
   "source": [
    "# 2. Iris dataset Categorical"
   ]
  },
  {
   "cell_type": "code",
   "execution_count": 62,
   "metadata": {},
   "outputs": [],
   "source": [
    "from sklearn import datasets\n",
    "import pandas as pd\n",
    "\n",
    "iris = datasets.load_iris()\n",
    "\n",
    "df3 = pd.DataFrame(iris.data)\n",
    "df3.columns = [\"sl\", \"sw\", 'pl', 'pw']\n",
    "\n",
    "#Function to find label for a value\n",
    "#if MIN_Value <=val < (m + Mean_Value) / 2 then it is assigned label a\n",
    "#if (m + Mean_Value) <=val < Mean_Value then it is assigned label b\n",
    "#if (Mean_Value) <=val < (Mean_Value + MAX_Value)/2 then it is assigned label c\n",
    "#if (Mean_Value + MAX_Value)/2 <=val <= MAX_Value  then it is assigned label d\n",
    "\n",
    "def label(val, *boundaries):\n",
    "    if (val < boundaries[0]):\n",
    "        return 'a'\n",
    "    elif (val < boundaries[1]):\n",
    "        return 'b'\n",
    "    elif (val < boundaries[2]):\n",
    "        return 'c'\n",
    "    else:\n",
    "        return 'd'\n",
    "\n",
    "#Function to convert a continuous data into labelled data\n",
    "#There are 4 lables  - a, b, c, d\n",
    "def toLabel(df3, old_feature_name):\n",
    "    second = df3[old_feature_name].mean()\n",
    "    minimum = df3[old_feature_name].min()\n",
    "    first = (minimum + second)/2\n",
    "    maximum = df3[old_feature_name].max()\n",
    "    third = (maximum + second)/2\n",
    "    return df3[old_feature_name].apply(label, args= (first, second, third))\n",
    "\n",
    "df3['sl'] = toLabel(df3, 'sl')\n",
    "df3['sw'] = toLabel(df3, 'sw')\n",
    "df3['pl'] = toLabel(df3, 'pl')\n",
    "df3['pw'] = toLabel(df3, 'pw')\n",
    "df3['label'] = iris.target\n",
    "df3['label'].replace({0: 'Iris-setosa', 1: 'Iris-versicolor', 2: 'Iris-virginica'}, inplace = True)"
   ]
  },
  {
   "cell_type": "code",
   "execution_count": 64,
   "metadata": {},
   "outputs": [
    {
     "data": {
      "text/plain": [
       "0.95"
      ]
     },
     "execution_count": 64,
     "metadata": {},
     "output_type": "execute_result"
    }
   ],
   "source": [
    "random.seed(0)\n",
    "train_df3, test_df3 = train_test_split(df3, test_size=20)\n",
    "\n",
    "tree = decision_tree_algorithm(train_df3)\n",
    "accuracy = calculate_accuracy(test_df3, tree)\n",
    "\n",
    "accuracy"
   ]
  },
  {
   "cell_type": "code",
   "execution_count": 65,
   "metadata": {},
   "outputs": [
    {
     "name": "stdout",
     "output_type": "stream",
     "text": [
      "Level : 0\n",
      "Curret Entropy : 1.5836100169358511\n",
      "Splitting on Feature : pw\n",
      "Gain ratio : 1.0\n",
      "Count of Iris-setosa : 46\n",
      "Count of Iris-versicolor : 42\n",
      "Count of Iris-virginica : 42\n",
      "--------------------------\n",
      "Level : 1\n",
      "Current Entropy : 0.0\n",
      "Count of Iris-setosa : 46\n",
      "Reached leaf node\n",
      "--------------------------\n",
      "Level : 1\n",
      "Curret Entropy : 1.0\n",
      "Splitting on Feature : pw\n",
      "Gain ratio : 0.5410329375826775\n",
      "Count of Iris-versicolor : 42\n",
      "Count of Iris-virginica : 42\n",
      "--------------------------\n",
      "Level : 2\n",
      "Current Entropy : 0.0\n",
      "Count of Iris-virginica : 30\n",
      "Reached leaf node\n",
      "--------------------------\n",
      "Level : 2\n",
      "Curret Entropy : 0.7642045065086203\n",
      "Splitting on Feature : pl\n",
      "Gain ratio : 0.510748581606675\n",
      "Count of Iris-versicolor : 42\n",
      "Count of Iris-virginica : 12\n",
      "--------------------------\n",
      "Level : 3\n",
      "Current Entropy : 0.0\n",
      "Count of Iris-virginica : 5\n",
      "Reached leaf node\n",
      "--------------------------\n",
      "Level : 3\n",
      "Curret Entropy : 0.5916727785823275\n",
      "Splitting on Feature : sl\n",
      "Gain ratio : 0.09830480375510302\n",
      "Count of Iris-versicolor : 42\n",
      "Count of Iris-virginica : 7\n",
      "--------------------------\n",
      "Level : 4\n",
      "Current Entropy : 0.0\n",
      "Count of Iris-versicolor : 16\n",
      "Reached leaf node\n",
      "--------------------------\n",
      "Level : 4\n",
      "Curret Entropy : 0.7455178428108284\n",
      "Splitting on Feature : sw\n",
      "Gain ratio : 0.12195635729928707\n",
      "Count of Iris-versicolor : 26\n",
      "Count of Iris-virginica : 7\n",
      "--------------------------\n",
      "Level : 5\n",
      "Current Entropy : 0.0\n",
      "Count of Iris-versicolor : 8\n",
      "Reached leaf node\n",
      "--------------------------\n",
      "Level : 5\n",
      "Current Entropy : 0.8554508105601306\n",
      "Count of Iris-versicolor : 18\n",
      "Count of Iris-virginica : 7\n",
      "Reached leaf node\n",
      "--------------------------\n"
     ]
    }
   ],
   "source": [
    "print_tree(tree)"
   ]
  },
  {
   "cell_type": "code",
   "execution_count": null,
   "metadata": {},
   "outputs": [],
   "source": []
  }
 ],
 "metadata": {
  "kernelspec": {
   "display_name": "Python 3",
   "language": "python",
   "name": "python3"
  },
  "language_info": {
   "codemirror_mode": {
    "name": "ipython",
    "version": 3
   },
   "file_extension": ".py",
   "mimetype": "text/x-python",
   "name": "python",
   "nbconvert_exporter": "python",
   "pygments_lexer": "ipython3",
   "version": "3.7.4"
  }
 },
 "nbformat": 4,
 "nbformat_minor": 2
}
